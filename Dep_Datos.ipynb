{
  "nbformat": 4,
  "nbformat_minor": 0,
  "metadata": {
    "colab": {
      "provenance": []
    },
    "kernelspec": {
      "name": "python3",
      "display_name": "Python 3"
    },
    "language_info": {
      "name": "python"
    }
  },
  "cells": [
    {
      "cell_type": "code",
      "execution_count": 1,
      "metadata": {
        "colab": {
          "base_uri": "https://localhost:8080/"
        },
        "id": "Gmw6pnzEhXvz",
        "outputId": "81cf320d-7fcc-4566-afc3-6e72833dcb91"
      },
      "outputs": [
        {
          "output_type": "stream",
          "name": "stdout",
          "text": [
            "Warning: Looks like you're using an outdated `kagglehub` version (installed: 0.3.10), please consider upgrading to the latest version (0.3.11).\n",
            "Downloading from https://www.kaggle.com/api/v1/datasets/download/radheshyamkollipara/bank-customer-churn?dataset_version_number=1...\n"
          ]
        },
        {
          "output_type": "stream",
          "name": "stderr",
          "text": [
            "100%|██████████| 307k/307k [00:00<00:00, 41.7MB/s]"
          ]
        },
        {
          "output_type": "stream",
          "name": "stdout",
          "text": [
            "Extracting files...\n"
          ]
        },
        {
          "output_type": "stream",
          "name": "stderr",
          "text": [
            "\n"
          ]
        }
      ],
      "source": [
        "import kagglehub\n",
        "import pandas as pd\n",
        "import numpy as np\n",
        "from sklearn.preprocessing import StandardScaler, OneHotEncoder\n",
        "\n",
        "# Descargar el dataset\n",
        "path = kagglehub.dataset_download(\"radheshyamkollipara/bank-customer-churn\")\n",
        "\n",
        "# Cargar datos\n",
        "data = pd.read_csv(path + \"/Customer-Churn-Records.csv\")"
      ]
    },
    {
      "cell_type": "code",
      "source": [
        "# 1. Inspeccionar datos\n",
        "print(\"Primeras filas del dataset:\\n\", data.head())\n",
        "print(\"\\nInformación del dataset:\\n\", data.info())"
      ],
      "metadata": {
        "colab": {
          "base_uri": "https://localhost:8080/"
        },
        "id": "q-Bzb9_VkEdO",
        "outputId": "e57b6809-a51a-484a-f6c7-b93675373e83"
      },
      "execution_count": 2,
      "outputs": [
        {
          "output_type": "stream",
          "name": "stdout",
          "text": [
            "Primeras filas del dataset:\n",
            "    RowNumber  CustomerId   Surname  CreditScore Geography  Gender  Age  \\\n",
            "0          1    15634602  Hargrave          619    France  Female   42   \n",
            "1          2    15647311      Hill          608     Spain  Female   41   \n",
            "2          3    15619304      Onio          502    France  Female   42   \n",
            "3          4    15701354      Boni          699    France  Female   39   \n",
            "4          5    15737888  Mitchell          850     Spain  Female   43   \n",
            "\n",
            "   Tenure    Balance  NumOfProducts  HasCrCard  IsActiveMember  \\\n",
            "0       2       0.00              1          1               1   \n",
            "1       1   83807.86              1          0               1   \n",
            "2       8  159660.80              3          1               0   \n",
            "3       1       0.00              2          0               0   \n",
            "4       2  125510.82              1          1               1   \n",
            "\n",
            "   EstimatedSalary  Exited  Complain  Satisfaction Score Card Type  \\\n",
            "0        101348.88       1         1                   2   DIAMOND   \n",
            "1        112542.58       0         1                   3   DIAMOND   \n",
            "2        113931.57       1         1                   3   DIAMOND   \n",
            "3         93826.63       0         0                   5      GOLD   \n",
            "4         79084.10       0         0                   5      GOLD   \n",
            "\n",
            "   Point Earned  \n",
            "0           464  \n",
            "1           456  \n",
            "2           377  \n",
            "3           350  \n",
            "4           425  \n",
            "<class 'pandas.core.frame.DataFrame'>\n",
            "RangeIndex: 10000 entries, 0 to 9999\n",
            "Data columns (total 18 columns):\n",
            " #   Column              Non-Null Count  Dtype  \n",
            "---  ------              --------------  -----  \n",
            " 0   RowNumber           10000 non-null  int64  \n",
            " 1   CustomerId          10000 non-null  int64  \n",
            " 2   Surname             10000 non-null  object \n",
            " 3   CreditScore         10000 non-null  int64  \n",
            " 4   Geography           10000 non-null  object \n",
            " 5   Gender              10000 non-null  object \n",
            " 6   Age                 10000 non-null  int64  \n",
            " 7   Tenure              10000 non-null  int64  \n",
            " 8   Balance             10000 non-null  float64\n",
            " 9   NumOfProducts       10000 non-null  int64  \n",
            " 10  HasCrCard           10000 non-null  int64  \n",
            " 11  IsActiveMember      10000 non-null  int64  \n",
            " 12  EstimatedSalary     10000 non-null  float64\n",
            " 13  Exited              10000 non-null  int64  \n",
            " 14  Complain            10000 non-null  int64  \n",
            " 15  Satisfaction Score  10000 non-null  int64  \n",
            " 16  Card Type           10000 non-null  object \n",
            " 17  Point Earned        10000 non-null  int64  \n",
            "dtypes: float64(2), int64(12), object(4)\n",
            "memory usage: 1.4+ MB\n",
            "\n",
            "Información del dataset:\n",
            " None\n"
          ]
        }
      ]
    },
    {
      "cell_type": "code",
      "source": [
        "# 2. Eliminar columnas irrelevantes o no numéricas\n",
        "columns_to_drop = [\"RowNumber\", \"CustomerId\", \"Surname\"]\n",
        "data.drop(columns=columns_to_drop, axis=1, inplace=True, errors=\"ignore\")"
      ],
      "metadata": {
        "id": "f1zUuY7BnvDx"
      },
      "execution_count": 3,
      "outputs": []
    },
    {
      "cell_type": "code",
      "source": [
        "# 3. Convertir variables categóricas en numéricas con One-Hot Encoding\n",
        "categorical_features = [\"Geography\", \"Gender\", \"Card Type\"]\n",
        "data = pd.get_dummies(data, columns=categorical_features, drop_first=True)"
      ],
      "metadata": {
        "id": "R-TKiDxQkO47"
      },
      "execution_count": 4,
      "outputs": []
    },
    {
      "cell_type": "code",
      "source": [
        "# 4. Escalar variables numéricas\n",
        "scaler = StandardScaler()\n",
        "numerical_features = [\"CreditScore\", \"Age\", \"Tenure\", \"Balance\", \"NumOfProducts\", \"EstimatedSalary\", \"Point Earned\"]\n",
        "data[numerical_features] = scaler.fit_transform(data[numerical_features])\n"
      ],
      "metadata": {
        "id": "uAhjBw0SoGEe"
      },
      "execution_count": 5,
      "outputs": []
    },
    {
      "cell_type": "code",
      "source": [
        "# 5. Verificar datos preprocesados\n",
        "print(\"\\nDatos preprocesados:\\n\", data.head())"
      ],
      "metadata": {
        "colab": {
          "base_uri": "https://localhost:8080/"
        },
        "id": "38ZMD7c1oz85",
        "outputId": "0d9081b7-d4d9-4226-b950-af1ffa5bec5f"
      },
      "execution_count": 6,
      "outputs": [
        {
          "output_type": "stream",
          "name": "stdout",
          "text": [
            "\n",
            "Datos preprocesados:\n",
            "    CreditScore       Age    Tenure   Balance  NumOfProducts  HasCrCard  \\\n",
            "0    -0.326221  0.293517 -1.041760 -1.225848      -0.911583          1   \n",
            "1    -0.440036  0.198164 -1.387538  0.117350      -0.911583          0   \n",
            "2    -1.536794  0.293517  1.032908  1.333053       2.527057          1   \n",
            "3     0.501521  0.007457 -1.387538 -1.225848       0.807737          0   \n",
            "4     2.063884  0.388871 -1.041760  0.785728      -0.911583          1   \n",
            "\n",
            "   IsActiveMember  EstimatedSalary  Exited  Complain  Satisfaction Score  \\\n",
            "0               1         0.021886       1         1                   2   \n",
            "1               1         0.216534       0         1                   3   \n",
            "2               0         0.240687       1         1                   3   \n",
            "3               0        -0.108918       0         0                   5   \n",
            "4               1        -0.365276       0         0                   5   \n",
            "\n",
            "   Point Earned  Geography_Germany  Geography_Spain  Gender_Male  \\\n",
            "0     -0.630839              False            False        False   \n",
            "1     -0.666251              False             True        False   \n",
            "2     -1.015942              False            False        False   \n",
            "3     -1.135457              False            False        False   \n",
            "4     -0.803472              False             True        False   \n",
            "\n",
            "   Card Type_GOLD  Card Type_PLATINUM  Card Type_SILVER  \n",
            "0           False               False             False  \n",
            "1           False               False             False  \n",
            "2           False               False             False  \n",
            "3            True               False             False  \n",
            "4            True               False             False  \n"
          ]
        }
      ]
    },
    {
      "cell_type": "code",
      "source": [
        "# 6. Guardar datos preprocesados\n",
        "data.to_csv(\"processed_data.csv\", index=False)"
      ],
      "metadata": {
        "id": "ZpDIA6lco2Zx"
      },
      "execution_count": 7,
      "outputs": []
    },
    {
      "cell_type": "code",
      "source": [
        "from sklearn.model_selection import train_test_split\n",
        "from sklearn.linear_model import LogisticRegression\n",
        "from sklearn.metrics import classification_report, accuracy_score\n",
        "import pandas as pd\n",
        "import pickle\n",
        "\n",
        "# 1. Cargar datos preprocesados\n",
        "data = pd.read_csv(\"processed_data.csv\")\n",
        "\n",
        "# 2. Separar variables independientes (X) y la variable objetivo (y)\n",
        "X = data.drop(\"Exited\", axis=1)\n",
        "y = data[\"Exited\"]\n",
        "\n",
        "# 3. Dividir en conjunto de entrenamiento (80%) y prueba (20%)\n",
        "X_train, X_test, y_train, y_test = train_test_split(X, y, test_size=0.2, random_state=42, stratify=y)"
      ],
      "metadata": {
        "id": "YyAKo6ZCo44W"
      },
      "execution_count": 9,
      "outputs": []
    }
  ]
}