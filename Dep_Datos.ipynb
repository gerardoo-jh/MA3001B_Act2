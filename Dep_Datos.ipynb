{
  "cells": [
    {
      "cell_type": "code",
      "execution_count": 50,
      "metadata": {},
      "outputs": [
        {
          "name": "stdout",
          "output_type": "stream",
          "text": [
            "Requirement already satisfied: kagglehub in c:\\users\\jerry\\anaconda3\\envs\\tecmx\\lib\\site-packages (0.3.11)\n",
            "Requirement already satisfied: packaging in c:\\users\\jerry\\anaconda3\\envs\\tecmx\\lib\\site-packages (from kagglehub) (23.0)\n",
            "Requirement already satisfied: pyyaml in c:\\users\\jerry\\anaconda3\\envs\\tecmx\\lib\\site-packages (from kagglehub) (6.0.2)\n",
            "Requirement already satisfied: requests in c:\\users\\jerry\\anaconda3\\envs\\tecmx\\lib\\site-packages (from kagglehub) (2.29.0)\n",
            "Requirement already satisfied: tqdm in c:\\users\\jerry\\anaconda3\\envs\\tecmx\\lib\\site-packages (from kagglehub) (4.66.1)\n",
            "Requirement already satisfied: charset-normalizer<4,>=2 in c:\\users\\jerry\\anaconda3\\envs\\tecmx\\lib\\site-packages (from requests->kagglehub) (2.0.4)\n",
            "Requirement already satisfied: idna<4,>=2.5 in c:\\users\\jerry\\anaconda3\\envs\\tecmx\\lib\\site-packages (from requests->kagglehub) (3.4)\n",
            "Requirement already satisfied: urllib3<1.27,>=1.21.1 in c:\\users\\jerry\\anaconda3\\envs\\tecmx\\lib\\site-packages (from requests->kagglehub) (1.26.20)\n",
            "Requirement already satisfied: certifi>=2017.4.17 in c:\\users\\jerry\\anaconda3\\envs\\tecmx\\lib\\site-packages (from requests->kagglehub) (2024.7.4)\n",
            "Requirement already satisfied: colorama in c:\\users\\jerry\\anaconda3\\envs\\tecmx\\lib\\site-packages (from tqdm->kagglehub) (0.4.6)\n"
          ]
        }
      ],
      "source": [
        "!pip install kagglehub"
      ]
    },
    {
      "cell_type": "code",
      "execution_count": 51,
      "metadata": {},
      "outputs": [],
      "source": [
        "import kagglehub\n",
        "import pandas as pd\n",
        "import numpy as np\n",
        "from sklearn.preprocessing import StandardScaler, OneHotEncoder\n",
        "from sklearn.model_selection import train_test_split\n",
        "from sklearn.linear_model import LogisticRegression\n",
        "from sklearn.metrics import classification_report, accuracy_score\n",
        "import pandas as pd\n",
        "import pickle"
      ]
    },
    {
      "cell_type": "code",
      "execution_count": 52,
      "metadata": {
        "colab": {
          "base_uri": "https://localhost:8080/"
        },
        "id": "Gmw6pnzEhXvz",
        "outputId": "81cf320d-7fcc-4566-afc3-6e72833dcb91"
      },
      "outputs": [],
      "source": [
        "path = kagglehub.dataset_download(\"fedesoriano/company-bankruptcy-prediction\")\n",
        "data = pd.read_csv(path+\"/data.csv\")"
      ]
    },
    {
      "cell_type": "code",
      "execution_count": 53,
      "metadata": {},
      "outputs": [],
      "source": [
        "# 2. Separar variables independientes (X) y la variable objetivo (y)\n",
        "X = data.drop(\"Bankrupt?\", axis=1)\n",
        "y = data[\"Bankrupt?\"]"
      ]
    },
    {
      "cell_type": "code",
      "execution_count": 54,
      "metadata": {
        "id": "YyAKo6ZCo44W"
      },
      "outputs": [],
      "source": [
        "from sklearn.decomposition import PCA\n",
        "from sklearn.preprocessing import StandardScaler\n",
        "\n",
        "\n",
        "# 3. Dividir en conjunto de entrenamiento (80%) y prueba (20%)\n",
        "X_train, X_test, y_train, y_test = train_test_split(X, y, test_size=0.2, random_state=42, stratify=y)\n",
        "\n",
        "scaler = StandardScaler()\n",
        "X_train_scaled = scaler.fit_transform(X_train)\n",
        "X_test_scaled = scaler.transform(X_test)\n",
        "\n",
        "# 2. Aplicar PCA para conservar el 95% de la varianza\n",
        "pca = PCA(n_components=0.95)\n",
        "X_train_pca = pca.fit_transform(X_train_scaled)\n",
        "X_test_pca = pca.transform(X_test_scaled)"
      ]
    },
    {
      "cell_type": "code",
      "execution_count": 55,
      "metadata": {},
      "outputs": [
        {
          "name": "stdout",
          "output_type": "stream",
          "text": [
            "Accuracy: 0.9619\n",
            "Classification Report:\n",
            "               precision    recall  f1-score   support\n",
            "\n",
            "           0       0.97      0.99      0.98      1320\n",
            "           1       0.30      0.14      0.19        44\n",
            "\n",
            "    accuracy                           0.96      1364\n",
            "   macro avg       0.64      0.56      0.58      1364\n",
            "weighted avg       0.95      0.96      0.95      1364\n",
            "\n"
          ]
        }
      ],
      "source": [
        "from sklearn.linear_model import LogisticRegression\n",
        "from sklearn.metrics import accuracy_score, classification_report\n",
        "\n",
        "# 1. Inicializar el modelo\n",
        "model = LogisticRegression(max_iter=1000, random_state=42)\n",
        "\n",
        "# 2. Entrenar el modelo\n",
        "model.fit(X_train_scaled, y_train)\n",
        "\n",
        "# 3. Hacer predicciones\n",
        "y_pred = model.predict(X_test_scaled)\n",
        "\n",
        "# 4. Evaluar el modelo\n",
        "accuracy = accuracy_score(y_test, y_pred)\n",
        "print(f\"Accuracy: {accuracy:.4f}\")\n",
        "print(\"Classification Report:\\n\", classification_report(y_test, y_pred))"
      ]
    },
    {
      "cell_type": "code",
      "execution_count": 56,
      "metadata": {},
      "outputs": [],
      "source": [
        "import pickle\n",
        "\n",
        "file = open('model_act2.pkl', 'wb')\n",
        "pickle.dump(model, file)\n",
        "file.close()"
      ]
    }
  ],
  "metadata": {
    "colab": {
      "provenance": []
    },
    "kernelspec": {
      "display_name": "tecmx",
      "language": "python",
      "name": "python3"
    },
    "language_info": {
      "codemirror_mode": {
        "name": "ipython",
        "version": 3
      },
      "file_extension": ".py",
      "mimetype": "text/x-python",
      "name": "python",
      "nbconvert_exporter": "python",
      "pygments_lexer": "ipython3",
      "version": "3.11.3"
    }
  },
  "nbformat": 4,
  "nbformat_minor": 0
}
